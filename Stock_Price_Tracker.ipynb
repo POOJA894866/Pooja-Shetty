{
  "cells": [
    {
      "cell_type": "markdown",
      "metadata": {
        "id": "view-in-github",
        "colab_type": "text"
      },
      "source": [
        "<a href=\"https://colab.research.google.com/github/POOJA894866/Pooja-Shetty/blob/main/Stock_Price_Tracker.ipynb\" target=\"_parent\"><img src=\"https://colab.research.google.com/assets/colab-badge.svg\" alt=\"Open In Colab\"/></a>"
      ]
    },
    {
      "cell_type": "code",
      "execution_count": null,
      "metadata": {
        "colab": {
          "base_uri": "https://localhost:8080/"
        },
        "id": "9wKUkMbsFqR6",
        "outputId": "b3bb7a5b-1609-4d1c-93fb-ec14a3ddd0f8"
      },
      "outputs": [
        {
          "name": "stdout",
          "output_type": "stream",
          "text": [
            "Requirement already satisfied: requests in /usr/local/lib/python3.10/dist-packages (2.32.3)\n",
            "Requirement already satisfied: charset-normalizer<4,>=2 in /usr/local/lib/python3.10/dist-packages (from requests) (3.4.0)\n",
            "Requirement already satisfied: idna<4,>=2.5 in /usr/local/lib/python3.10/dist-packages (from requests) (3.10)\n",
            "Requirement already satisfied: urllib3<3,>=1.21.1 in /usr/local/lib/python3.10/dist-packages (from requests) (2.2.3)\n",
            "Requirement already satisfied: certifi>=2017.4.17 in /usr/local/lib/python3.10/dist-packages (from requests) (2024.8.30)\n"
          ]
        }
      ],
      "source": [
        "!pip install requests\n"
      ]
    },
    {
      "cell_type": "code",
      "execution_count": null,
      "metadata": {
        "colab": {
          "background_save": true,
          "base_uri": "https://localhost:8080/"
        },
        "id": "834VzdSOIfBw",
        "outputId": "afe8a94d-5e58-4d99-fa35-6769f18e0288"
      },
      "outputs": [
        {
          "name": "stdout",
          "output_type": "stream",
          "text": [
            "Fetching stock prices...\n",
            "\n",
            "Symbol: AAPL, Price: $255.46, Time: 2024-12-20 18:20:00\n",
            "Symbol: MSFT, Price: $437.35, Time: 2024-12-20 18:20:00\n",
            "Symbol: GOOGL, Price: $192.20, Time: 2024-12-20 18:20:00\n",
            "Symbol: AMZN, Price: $225.85, Time: 2024-12-20 18:20:00\n"
          ]
        }
      ],
      "source": [
        "import requests\n",
        "\n",
        "# Replace with your own API key\n",
        "API_KEY = 'H9TJDZRJZY7FLYL6'\n",
        "\n",
        "def fetch_stock_price(symbol):\n",
        "    url = f'https://www.alphavantage.co/query?function=TIME_SERIES_INTRADAY&symbol={symbol}&interval=1min&apikey={API_KEY}'\n",
        "    response = requests.get(url)\n",
        "\n",
        "    if response.status_code == 200:\n",
        "        data = response.json()\n",
        "\n",
        "        # Check if the data contains the expected fields\n",
        "        time_series = data.get('Time Series (1min)', {})\n",
        "        if time_series:\n",
        "            # Get the latest time series data\n",
        "            latest_time = sorted(time_series.keys())[0]\n",
        "            latest_data = time_series[latest_time]\n",
        "            return {\n",
        "                'symbol': symbol,\n",
        "                'price': float(latest_data['1. open']),\n",
        "                'time': latest_time\n",
        "            }\n",
        "        else:\n",
        "            print(f\"No data found for {symbol}.\")\n",
        "            return None\n",
        "    else:\n",
        "        print(f\"Error fetching data: {response.status_code}\")\n",
        "        return None\n",
        "\n",
        "def display_stock_prices(symbols):\n",
        "    print(\"Fetching stock prices...\\n\")\n",
        "    for symbol in symbols:\n",
        "        stock_data = fetch_stock_price(symbol)\n",
        "        if stock_data:\n",
        "            print(f\"Symbol: {stock_data['symbol']}, Price: ${stock_data['price']:.2f}, Time: {stock_data['time']}\")\n",
        "\n",
        "# List of companies (stock symbols) to track\n",
        "companies = ['AAPL', 'MSFT', 'GOOGL', 'AMZN']\n",
        "\n",
        "# Call the function to display stock prices\n",
        "display_stock_prices(companies)\n"
      ]
    }
  ],
  "metadata": {
    "colab": {
      "provenance": [],
      "include_colab_link": true
    },
    "kernelspec": {
      "display_name": "Python 3",
      "name": "python3"
    },
    "language_info": {
      "name": "python"
    }
  },
  "nbformat": 4,
  "nbformat_minor": 0
}